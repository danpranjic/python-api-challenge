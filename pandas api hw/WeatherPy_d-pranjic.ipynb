{
 "cells": [
  {
   "cell_type": "markdown",
   "metadata": {},
   "source": [
    "# WeatherPy\n",
    "----\n",
    "\n",
    "#### Note\n",
    "* Instructions have been included for each segment. You do not have to follow them exactly, but they are included to help you think through the steps."
   ]
  },
  {
   "cell_type": "code",
   "execution_count": 36,
   "metadata": {
    "scrolled": true
   },
   "outputs": [],
   "source": [
    "# Dependencies and Setup\n",
    "import matplotlib.pyplot as plt\n",
    "import pandas as pd\n",
    "import numpy as np\n",
    "import requests\n",
    "import time\n",
    "import json\n",
    "from scipy.stats import linregress\n",
    "import scipy.stats as st\n",
    "\n",
    "# Import API key\n",
    "from api_keys import weather_api_key\n",
    "\n",
    "# Incorporated citipy to determine city based on latitude and longitude\n",
    "from citipy import citipy\n",
    "\n",
    "# Output File (CSV)\n",
    "output_data_file = \"output_data/cities.csv\"\n",
    "\n",
    "# Range of latitudes and longitudes\n",
    "lat_range = (-90, 90)\n",
    "lng_range = (-180, 180)\n",
    "\n",
    "#api_key = \"enter key here\"\n"
   ]
  },
  {
   "cell_type": "markdown",
   "metadata": {},
   "source": [
    "## Generate Cities List"
   ]
  },
  {
   "cell_type": "code",
   "execution_count": 8,
   "metadata": {},
   "outputs": [
    {
     "data": {
      "text/plain": [
       "641"
      ]
     },
     "execution_count": 8,
     "metadata": {},
     "output_type": "execute_result"
    }
   ],
   "source": [
    "# List for holding lat_lngs and cities\n",
    "lat_lngs = []\n",
    "cities = []\n",
    "\n",
    "# Create a set of random lat and lng combinations\n",
    "lats = np.random.uniform(lat_range[0], lat_range[1], size=1500)\n",
    "lngs = np.random.uniform(lng_range[0], lng_range[1], size=1500)\n",
    "lat_lngs = zip(lats, lngs)\n",
    "\n",
    "# Identify nearest city for each lat, lng combination\n",
    "for lat_lng in lat_lngs:\n",
    "    city = citipy.nearest_city(lat_lng[0], lat_lng[1]).city_name\n",
    "    \n",
    "    # If the city is unique, then add it to a our cities list\n",
    "    if city not in cities:\n",
    "        cities.append(city)\n",
    "\n",
    "# Print the city count to confirm sufficient count\n",
    "len(cities)"
   ]
  },
  {
   "cell_type": "code",
   "execution_count": 16,
   "metadata": {},
   "outputs": [
    {
     "name": "stdout",
     "output_type": "stream",
     "text": [
      "{\n",
      "    \"coord\": {\n",
      "        \"lon\": 63.1206,\n",
      "        \"lat\": 52.9594\n",
      "    },\n",
      "    \"weather\": [\n",
      "        {\n",
      "            \"id\": 800,\n",
      "            \"main\": \"Clear\",\n",
      "            \"description\": \"clear sky\",\n",
      "            \"icon\": \"01n\"\n",
      "        }\n",
      "    ],\n",
      "    \"base\": \"stations\",\n",
      "    \"main\": {\n",
      "        \"temp\": 54.5,\n",
      "        \"feels_like\": 53.13,\n",
      "        \"temp_min\": 54.5,\n",
      "        \"temp_max\": 54.5,\n",
      "        \"pressure\": 1011,\n",
      "        \"humidity\": 74,\n",
      "        \"sea_level\": 1011,\n",
      "        \"grnd_level\": 992\n",
      "    },\n",
      "    \"visibility\": 10000,\n",
      "    \"wind\": {\n",
      "        \"speed\": 7.38,\n",
      "        \"deg\": 265,\n",
      "        \"gust\": 14.09\n",
      "    },\n",
      "    \"clouds\": {\n",
      "        \"all\": 0\n",
      "    },\n",
      "    \"dt\": 1630791289,\n",
      "    \"sys\": {\n",
      "        \"country\": \"KZ\",\n",
      "        \"sunrise\": 1630803867,\n",
      "        \"sunset\": 1630852109\n",
      "    },\n",
      "    \"timezone\": 21600,\n",
      "    \"id\": 1519843,\n",
      "    \"name\": \"Rudnyy\",\n",
      "    \"cod\": 200\n",
      "}\n"
     ]
    }
   ],
   "source": [
    "# Get Weather Data\n",
    "url = \"http://api.openweathermap.org/data/2.5/weather?\"\n",
    "units = \"imperial\"\n",
    "query_url = f\"{url}appid={api_key}&units={units}&q=\"\n",
    "\n",
    "weather_response = requests.get(query_url + city)\n",
    "weather_json = weather_response.json()\n",
    "print(json.dumps(weather_json, indent=4))"
   ]
  },
  {
   "cell_type": "code",
   "execution_count": 17,
   "metadata": {},
   "outputs": [
    {
     "name": "stdout",
     "output_type": "stream",
     "text": [
      "<Response [200]>\n"
     ]
    }
   ],
   "source": [
    "print(requests.get(query_url + city))"
   ]
  },
  {
   "cell_type": "code",
   "execution_count": 18,
   "metadata": {},
   "outputs": [
    {
     "name": "stdout",
     "output_type": "stream",
     "text": [
      "Beginning Data Retrieval\n",
      "-------------------------------\n",
      "Processing Record 1 | Porcia\n",
      "Processing Record 2 | Rikitea\n",
      "Processing Record 3 | Ushuaia\n",
      "Processing Record 4 | Yellowknife\n",
      "Processing Record 5 | Lebu\n",
      "Processing Record 6 | Mataura\n",
      "Processing Record 7 | Ancud\n",
      "Processing Record 8 | Qaanaaq\n",
      "Processing Record 9 | Irbeyskoye\n",
      "Processing Record 10 | Khatanga\n",
      "Processing Record 11 | Geraldton\n",
      "Processing Record 12 | Bengkulu\n",
      "Processing Record 13 | Salalah\n",
      "Processing Record 14 | Mazatlán\n",
      "Processing Record 15 | Manggar\n",
      "Processing Record 16 | Kapaa\n",
      "Processing Record 17 | Grand Gaube\n",
      "Processing Record 18 | Lagoa\n",
      "Processing Record 19 | Hermanus\n",
      "Processing Record 20 | Tasiilaq\n",
      "City not found. Skipping...\n",
      "Processing Record 21 | Norman Wells\n",
      "City not found. Skipping...\n",
      "Processing Record 22 | Mar del Plata\n",
      "Processing Record 23 | Luang Prabang\n",
      "Processing Record 24 | Hilo\n",
      "Processing Record 25 | Touros\n",
      "City not found. Skipping...\n",
      "City not found. Skipping...\n",
      "Processing Record 26 | Nhamundá\n",
      "Processing Record 27 | Bluff\n",
      "Processing Record 28 | Minsk\n",
      "Processing Record 29 | Upernavik\n",
      "Processing Record 30 | Arraial do Cabo\n",
      "City not found. Skipping...\n",
      "Processing Record 31 | Clyde River\n",
      "Processing Record 32 | Tuktoyaktuk\n",
      "Processing Record 33 | Berlevåg\n",
      "Processing Record 34 | Paoua\n",
      "Processing Record 35 | Pevek\n",
      "Processing Record 36 | Bambous Virieux\n",
      "City not found. Skipping...\n",
      "Processing Record 37 | Isla Vista\n",
      "City not found. Skipping...\n",
      "Processing Record 38 | Pacific Grove\n",
      "Processing Record 39 | Alice Springs\n",
      "Processing Record 40 | Cabedelo\n",
      "City not found. Skipping...\n",
      "Processing Record 41 | Rudnichnyy\n",
      "Processing Record 42 | Arvika\n",
      "Processing Record 43 | Nouakchott\n",
      "Processing Record 44 | Cape Town\n",
      "Processing Record 45 | Bathsheba\n",
      "Processing Record 46 | Vila Velha\n",
      "Processing Record 47 | Benghazi\n",
      "Processing Record 48 | Cockburn Town\n",
      "City not found. Skipping...\n",
      "Processing Record 49 | Aklavik\n",
      "Processing Record 50 | Hambantota\n",
      "City not found. Skipping...\n",
      "Processing Record 51 | Hobart\n",
      "Processing Record 52 | Polunochnoye\n",
      "Processing Record 53 | Port Alfred\n",
      "Processing Record 54 | Abu Dhabi\n",
      "Processing Record 55 | Vaini\n",
      "Processing Record 56 | Guerrero Negro\n",
      "Processing Record 57 | Atuona\n",
      "Processing Record 58 | Faanui\n",
      "Processing Record 59 | Miajadas\n",
      "Processing Record 60 | Ostrovnoy\n",
      "Processing Record 61 | Imbituba\n",
      "Processing Record 62 | Carnarvon\n",
      "City not found. Skipping...\n",
      "Processing Record 63 | Duluth\n",
      "Processing Record 64 | Macusani\n",
      "Processing Record 65 | Bethel\n",
      "Processing Record 66 | San Cristobal\n",
      "Processing Record 67 | Sidrolândia\n",
      "Processing Record 68 | Lima\n",
      "City not found. Skipping...\n",
      "Processing Record 69 | Mt. Pleasant\n",
      "Processing Record 70 | Bonthe\n",
      "Processing Record 71 | Paraná\n",
      "Processing Record 72 | Barrow\n",
      "Processing Record 73 | Meadow Lake\n",
      "Processing Record 74 | Puerto Ayora\n",
      "Processing Record 75 | Ribeira Grande\n",
      "City not found. Skipping...\n",
      "Processing Record 76 | Goundam\n",
      "Processing Record 77 | Kavieng\n",
      "Processing Record 78 | Kongolo\n",
      "Processing Record 79 | Bredasdorp\n",
      "City not found. Skipping...\n",
      "Processing Record 80 | Orange Cove\n",
      "Processing Record 81 | Kloulklubed\n",
      "Processing Record 82 | Saint-Philippe\n",
      "Processing Record 83 | Beringovskiy\n",
      "City not found. Skipping...\n",
      "Processing Record 84 | Port Lincoln\n",
      "Processing Record 85 | Andenes\n",
      "Processing Record 86 | Fortuna\n",
      "Processing Record 87 | Bitkine\n",
      "Processing Record 88 | Avarua\n",
      "Processing Record 89 | Thompson\n",
      "City not found. Skipping...\n",
      "Processing Record 90 | Esperance\n",
      "Processing Record 91 | Mossamedes\n",
      "Processing Record 92 | Raja\n",
      "Processing Record 93 | Nesna\n",
      "City not found. Skipping...\n",
      "Processing Record 94 | Uribia\n",
      "City not found. Skipping...\n",
      "Processing Record 95 | Anadyr\n",
      "City not found. Skipping...\n",
      "Processing Record 96 | Muros\n",
      "Processing Record 97 | Bandarbeyla\n",
      "Processing Record 98 | Aranos\n",
      "Processing Record 99 | Albany\n",
      "Processing Record 100 | Tondano\n",
      "Processing Record 101 | Anori\n",
      "City not found. Skipping...\n",
      "Processing Record 102 | Yar-Sale\n",
      "Processing Record 103 | Marawi\n",
      "Processing Record 104 | East London\n",
      "City not found. Skipping...\n",
      "Processing Record 105 | Uglovoye\n",
      "Processing Record 106 | Castro\n",
      "Processing Record 107 | Sitka\n",
      "Processing Record 108 | Cherskiy\n",
      "Processing Record 109 | Tilichiki\n",
      "Processing Record 110 | Busselton\n",
      "Processing Record 111 | Hithadhoo\n",
      "Processing Record 112 | Tuatapere\n",
      "Processing Record 113 | Bhabhua\n",
      "Processing Record 114 | Port Elizabeth\n",
      "Processing Record 115 | Yārāda\n",
      "Processing Record 116 | Mogadishu\n",
      "Processing Record 117 | Hasaki\n",
      "Processing Record 118 | Karratha\n",
      "Processing Record 119 | Alnashi\n",
      "Processing Record 120 | Pangnirtung\n",
      "City not found. Skipping...\n",
      "Processing Record 121 | Punta Arenas\n",
      "Processing Record 122 | New Norfolk\n",
      "Processing Record 123 | São João da Barra\n",
      "Processing Record 124 | Souillac\n",
      "Processing Record 125 | Morondava\n",
      "Processing Record 126 | Palmer\n",
      "Processing Record 127 | George Town\n",
      "Processing Record 128 | Allada\n",
      "City not found. Skipping...\n",
      "Processing Record 129 | Andros Town\n",
      "Processing Record 130 | Orlik\n",
      "Processing Record 131 | Jamestown\n",
      "Processing Record 132 | Saint Paul Harbor\n",
      "Processing Record 133 | Araguaçu\n",
      "Processing Record 134 | La Roda\n",
      "City not found. Skipping...\n",
      "Processing Record 135 | Nikolskoye\n",
      "Processing Record 136 | Lompoc\n",
      "City not found. Skipping...\n",
      "Processing Record 137 | Najrān\n",
      "Processing Record 138 | Chui\n",
      "Processing Record 139 | Lüderitz\n",
      "Processing Record 140 | Severo-Kuril'sk\n",
      "Processing Record 141 | Kingsville\n",
      "Processing Record 142 | Dikson\n",
      "Processing Record 143 | Asopós\n",
      "Processing Record 144 | Tocopilla\n",
      "Processing Record 145 | Oga\n",
      "Processing Record 146 | Tonantins\n",
      "Processing Record 147 | Orangeburg\n",
      "Processing Record 148 | Yāval\n",
      "City not found. Skipping...\n",
      "Processing Record 149 | Cidreira\n",
      "Processing Record 150 | Šibenik\n",
      "Processing Record 151 | Ngunguru\n",
      "Processing Record 152 | Grindavik\n",
      "Processing Record 153 | Aktau\n",
      "Processing Record 154 | Beloha\n",
      "Processing Record 155 | Lavrentiya\n",
      "City not found. Skipping...\n",
      "Processing Record 156 | Kashgar\n",
      "Processing Record 157 | Vysokogornyy\n",
      "Processing Record 158 | Ponta do Sol\n",
      "Processing Record 159 | Houston\n",
      "Processing Record 160 | Butaritari\n",
      "Processing Record 161 | Port Keats\n",
      "Processing Record 162 | Adrar\n",
      "City not found. Skipping...\n",
      "Processing Record 163 | Angoche\n",
      "Processing Record 164 | Mount Gambier\n",
      "Processing Record 165 | Mount Isa\n",
      "Processing Record 166 | Rincon\n",
      "Processing Record 167 | Sur\n",
      "Processing Record 168 | Chilmāri\n",
      "Processing Record 169 | Suntar\n",
      "Processing Record 170 | Aykhal\n",
      "Processing Record 171 | Nishihara\n",
      "Processing Record 172 | Saint George\n",
      "Processing Record 173 | Ulladulla\n",
      "Processing Record 174 | Cabras\n",
      "Processing Record 175 | Pisco\n",
      "Processing Record 176 | Grande Prairie\n",
      "Processing Record 177 | Katsuura\n",
      "Processing Record 178 | Mehamn\n",
      "Processing Record 179 | Wanning\n",
      "Processing Record 180 | Faya\n",
      "Processing Record 181 | Aasiaat\n",
      "Processing Record 182 | Pangody\n",
      "Processing Record 183 | Saint-Augustin\n",
      "Processing Record 184 | Iqaluit\n",
      "Processing Record 185 | Jilib\n",
      "Processing Record 186 | Porto-Novo\n",
      "Processing Record 187 | St. George's\n",
      "Processing Record 188 | Richards Bay\n",
      "Processing Record 189 | Uyuni\n",
      "Processing Record 190 | Troitsko-Pechorsk\n",
      "Processing Record 191 | Santa Maria\n",
      "Processing Record 192 | Hutchinson\n",
      "City not found. Skipping...\n",
      "Processing Record 193 | Isla Mujeres\n",
      "Processing Record 194 | Salinópolis\n",
      "City not found. Skipping...\n",
      "Processing Record 195 | Challapata\n",
      "Processing Record 196 | Bone\n",
      "Processing Record 197 | Progreso\n",
      "Processing Record 198 | Hong Kong\n",
      "Processing Record 199 | Rolla\n",
      "Processing Record 200 | Río Gallegos\n",
      "City not found. Skipping...\n",
      "Processing Record 201 | Odienné\n",
      "Processing Record 202 | Provideniya\n",
      "Processing Record 203 | Saint-Pierre\n",
      "City not found. Skipping...\n",
      "Processing Record 204 | Anito\n",
      "Processing Record 205 | Biak\n",
      "Processing Record 206 | Jizan\n",
      "Processing Record 207 | Longyearbyen\n",
      "Processing Record 208 | Haines Junction\n",
      "Processing Record 209 | Tranås\n",
      "Processing Record 210 | Aksu\n",
      "Processing Record 211 | Alofi\n",
      "Processing Record 212 | Tadine\n",
      "Processing Record 213 | Mirny\n",
      "Processing Record 214 | Kahului\n",
      "Processing Record 215 | Yakeshi\n",
      "Processing Record 216 | Hofn\n",
      "Processing Record 217 | Mitsamiouli\n",
      "City not found. Skipping...\n",
      "Processing Record 218 | Borogontsy\n",
      "Processing Record 219 | Saskylakh\n",
      "Processing Record 220 | Alibag\n"
     ]
    },
    {
     "name": "stdout",
     "output_type": "stream",
     "text": [
      "Processing Record 221 | Iisalmi\n",
      "Processing Record 222 | Cabo San Lucas\n",
      "Processing Record 223 | Draguignan\n",
      "Processing Record 224 | Boshnyakovo\n",
      "Processing Record 225 | Okha\n",
      "Processing Record 226 | Berdyaush\n",
      "Processing Record 227 | Clearwater\n",
      "Processing Record 228 | Melilla\n",
      "Processing Record 229 | Bonavista\n",
      "Processing Record 230 | San Andrés\n",
      "City not found. Skipping...\n",
      "Processing Record 231 | Saravena\n",
      "Processing Record 232 | Beyneu\n",
      "Processing Record 233 | Banyo\n",
      "Processing Record 234 | Boyolangu\n",
      "Processing Record 235 | Brae\n",
      "Processing Record 236 | Noyabrsk\n",
      "Processing Record 237 | Rayong\n",
      "City not found. Skipping...\n",
      "City not found. Skipping...\n",
      "Processing Record 238 | Hisai-motomachi\n",
      "Processing Record 239 | Linhares\n",
      "Processing Record 240 | Hamilton\n",
      "Processing Record 241 | Yulara\n",
      "City not found. Skipping...\n",
      "Processing Record 242 | Airai\n",
      "Processing Record 243 | Cochrane\n",
      "Processing Record 244 | Kulhudhuffushi\n",
      "Processing Record 245 | Leningradskiy\n",
      "City not found. Skipping...\n",
      "Processing Record 246 | Berbera\n",
      "Processing Record 247 | Coyhaique\n",
      "Processing Record 248 | Santo Tomas\n",
      "Processing Record 249 | Cap Malheureux\n",
      "Processing Record 250 | Gornopravdinsk\n",
      "Processing Record 251 | Vinogradnyy\n",
      "Processing Record 252 | Shelburne\n",
      "Processing Record 253 | Forio\n",
      "City not found. Skipping...\n",
      "Processing Record 254 | Noumea\n",
      "Processing Record 255 | Kalangala\n",
      "Processing Record 256 | São Filipe\n",
      "City not found. Skipping...\n",
      "Processing Record 257 | Chikwawa\n",
      "Processing Record 258 | Kalmar\n",
      "Processing Record 259 | East Stroudsburg\n",
      "Processing Record 260 | Manzhouli\n",
      "Processing Record 261 | Ismailia\n",
      "Processing Record 262 | Namatanai\n",
      "City not found. Skipping...\n",
      "Processing Record 263 | Huanren\n",
      "Processing Record 264 | Peace River\n",
      "Processing Record 265 | Malbork\n",
      "Processing Record 266 | Okhotsk\n",
      "Processing Record 267 | La Ronge\n",
      "Processing Record 268 | Chibuto\n",
      "Processing Record 269 | Vanavara\n",
      "Processing Record 270 | Homer\n",
      "Processing Record 271 | Honiara\n",
      "Processing Record 272 | Bjørnevatn\n",
      "Processing Record 273 | Pingzhuang\n",
      "Processing Record 274 | Bolu Province\n",
      "Processing Record 275 | Paita\n",
      "Processing Record 276 | Planadas\n",
      "Processing Record 277 | Winchester\n",
      "Processing Record 278 | Ključ\n",
      "City not found. Skipping...\n",
      "Processing Record 279 | Ha Giang\n",
      "Processing Record 280 | Chokurdakh\n",
      "Processing Record 281 | Torbay\n",
      "Processing Record 282 | Ekibastuz\n",
      "Processing Record 283 | Guérande\n",
      "Processing Record 284 | Alcañiz\n",
      "Processing Record 285 | Klaksvík\n",
      "Processing Record 286 | Rocha\n",
      "Processing Record 287 | Warah\n",
      "Processing Record 288 | Honningsvåg\n",
      "Processing Record 289 | Hinton\n",
      "Processing Record 290 | Nemuro\n",
      "Processing Record 291 | Kpandae\n",
      "Processing Record 292 | Oussouye\n",
      "Processing Record 293 | Guácimo\n",
      "Processing Record 294 | Winnemucca\n",
      "Processing Record 295 | Birao\n",
      "Processing Record 296 | Niamey\n",
      "Processing Record 297 | Bahía Solano\n",
      "Processing Record 298 | Anūpgarh\n",
      "Processing Record 299 | Montería\n",
      "Processing Record 300 | Sinnamary\n",
      "Processing Record 301 | Abu Samrah\n",
      "Processing Record 302 | Peniche\n",
      "Processing Record 303 | Chanute\n",
      "City not found. Skipping...\n",
      "City not found. Skipping...\n",
      "Processing Record 304 | Karakulino\n",
      "Processing Record 305 | Kidero\n",
      "Processing Record 306 | Ilulissat\n",
      "City not found. Skipping...\n",
      "Processing Record 307 | Hvide Sande\n",
      "Processing Record 308 | Saldanha\n",
      "Processing Record 309 | Srednekolymsk\n",
      "Processing Record 310 | Waingapu\n",
      "Processing Record 311 | Kyshtovka\n",
      "Processing Record 312 | Fengzhen\n",
      "Processing Record 313 | Lano\n",
      "Processing Record 314 | Bergen\n",
      "Processing Record 315 | Narsaq\n",
      "Processing Record 316 | Zharkent\n",
      "Processing Record 317 | Belyy Yar\n",
      "Processing Record 318 | Thinadhoo\n",
      "Processing Record 319 | Inhambane\n",
      "Processing Record 320 | Pakdasht\n",
      "City not found. Skipping...\n",
      "Processing Record 321 | Comodoro Rivadavia\n",
      "Processing Record 322 | Kismayo\n",
      "Processing Record 323 | Gorakhpur\n",
      "Processing Record 324 | Tabou\n",
      "Processing Record 325 | Freeport\n",
      "Processing Record 326 | Ambilobe\n",
      "Processing Record 327 | Sabzawār\n",
      "Processing Record 328 | Te Anau\n",
      "Processing Record 329 | Muğla Province\n",
      "City not found. Skipping...\n",
      "Processing Record 330 | Bermeo\n",
      "Processing Record 331 | Osa\n",
      "Processing Record 332 | Maragogi\n",
      "Processing Record 333 | Sitrah\n",
      "Processing Record 334 | Chifeng\n",
      "Processing Record 335 | Sabha\n",
      "Processing Record 336 | Tagusao\n",
      "Processing Record 337 | Tara\n",
      "Processing Record 338 | Hīt\n",
      "Processing Record 339 | Vardø\n",
      "Processing Record 340 | Korla\n",
      "Processing Record 341 | Myanaung\n",
      "Processing Record 342 | Zhigalovo\n",
      "Processing Record 343 | Cayenne\n",
      "Processing Record 344 | Champerico\n",
      "City not found. Skipping...\n",
      "Processing Record 345 | Kapit\n",
      "Processing Record 346 | Salisbury\n",
      "Processing Record 347 | Coquimbo\n",
      "Processing Record 348 | Kimbe\n",
      "Processing Record 349 | Avera\n",
      "Processing Record 350 | Magadan\n",
      "City not found. Skipping...\n",
      "Processing Record 351 | Francavilla al Mare\n",
      "Processing Record 352 | Koceljeva\n",
      "Processing Record 353 | Ulaangom\n",
      "Processing Record 354 | Shīeli\n",
      "Processing Record 355 | Syracuse\n",
      "Processing Record 356 | Isangel\n",
      "Processing Record 357 | Międzyrzec Podlaski\n",
      "Processing Record 358 | Changqing\n",
      "Processing Record 359 | Los Llanos de Aridane\n",
      "Processing Record 360 | Zhigansk\n",
      "Processing Record 361 | Kaura Namoda\n",
      "Processing Record 362 | Muroto-misakicho\n",
      "Processing Record 363 | Kaitangata\n",
      "Processing Record 364 | Husavik\n",
      "Processing Record 365 | Bristol\n",
      "Processing Record 366 | Argelia\n",
      "Processing Record 367 | Omaruru\n",
      "Processing Record 368 | Meulaboh\n",
      "Processing Record 369 | Dhidhdhoo\n",
      "Processing Record 370 | Curumaní\n",
      "Processing Record 371 | Codrington\n",
      "Processing Record 372 | Nelson Bay\n",
      "Processing Record 373 | Ozernovskiy\n",
      "Processing Record 374 | Washington\n",
      "Processing Record 375 | Constitución\n",
      "Processing Record 376 | Kanniyākumāri\n",
      "Processing Record 377 | Esna\n",
      "Processing Record 378 | Berdigestyakh\n",
      "Processing Record 379 | Tura\n",
      "Processing Record 380 | Makakilo City\n",
      "Processing Record 381 | Kargasok\n",
      "Processing Record 382 | Talnakh\n",
      "Processing Record 383 | Lorengau\n",
      "Processing Record 384 | Plattsburgh\n",
      "Processing Record 385 | Tiksi\n",
      "Processing Record 386 | Ust-Kuyga\n",
      "Processing Record 387 | Ust-Nera\n",
      "Processing Record 388 | Zhangye\n",
      "Processing Record 389 | Shamkhal\n",
      "Processing Record 390 | Karlshus\n",
      "Processing Record 391 | Westport\n",
      "Processing Record 392 | Navahrudak\n",
      "Processing Record 393 | Buala\n",
      "Processing Record 394 | Rawson\n",
      "Processing Record 395 | Marzuq\n",
      "Processing Record 396 | Henties Bay\n",
      "Processing Record 397 | Iseyin\n",
      "Processing Record 398 | Broome\n",
      "Processing Record 399 | Athens\n",
      "Processing Record 400 | Lander\n",
      "City not found. Skipping...\n",
      "Processing Record 401 | Nanning\n",
      "Processing Record 402 | Iquique\n",
      "Processing Record 403 | Cadillac\n",
      "Processing Record 404 | Norfolk\n",
      "Processing Record 405 | Aksarayskiy\n",
      "City not found. Skipping...\n",
      "Processing Record 406 | Olafsvik\n",
      "Processing Record 407 | Storforshei\n",
      "Processing Record 408 | Pitimbu\n",
      "Processing Record 409 | Chapais\n",
      "Processing Record 410 | Smithers\n",
      "Processing Record 411 | Hede\n",
      "Processing Record 412 | Nkoteng\n",
      "Processing Record 413 | Aripuanã\n",
      "Processing Record 414 | Barkly West\n",
      "Processing Record 415 | The Valley\n",
      "Processing Record 416 | Mananjary\n",
      "Processing Record 417 | Lata\n",
      "Processing Record 418 | Linxia Chengguanzhen\n",
      "Processing Record 419 | Coos Bay\n",
      "Processing Record 420 | Jiuquan\n",
      "Processing Record 421 | Bowen\n",
      "Processing Record 422 | Fillmore\n",
      "Processing Record 423 | Logan\n",
      "Processing Record 424 | Warrington\n",
      "Processing Record 425 | Atambua\n",
      "Processing Record 426 | Kutum\n",
      "Processing Record 427 | Santiago del Estero\n",
      "Processing Record 428 | Atikokan\n",
      "Processing Record 429 | Safi\n",
      "Processing Record 430 | College\n",
      "Processing Record 431 | Nanortalik\n",
      "City not found. Skipping...\n",
      "Processing Record 432 | Manche\n",
      "Processing Record 433 | Warora\n",
      "Processing Record 434 | Stokmarknes\n",
      "Processing Record 435 | Harda\n",
      "Processing Record 436 | Linguère\n",
      "Processing Record 437 | Bānsdīh\n",
      "Processing Record 438 | Pombia\n",
      "Processing Record 439 | Cedral\n",
      "Processing Record 440 | Timrå\n",
      "Processing Record 441 | Nador\n",
      "Processing Record 442 | Wakkanai\n",
      "Processing Record 443 | Yangi Marg`ilon\n",
      "Processing Record 444 | San Patricio\n",
      "Processing Record 445 | Teknāf\n",
      "Processing Record 446 | Petropavlovsk-Kamchatskiy\n",
      "Processing Record 447 | Jiexiu\n",
      "Processing Record 448 | Bairiki Village\n",
      "Processing Record 449 | Tucuruí\n",
      "Processing Record 450 | Tromsø\n"
     ]
    },
    {
     "name": "stdout",
     "output_type": "stream",
     "text": [
      "Processing Record 451 | Zauralskiy\n",
      "Processing Record 452 | Dingle\n",
      "Processing Record 453 | Camacha\n",
      "Processing Record 454 | Tarauacá\n",
      "Processing Record 455 | Maïné Soroa\n",
      "Processing Record 456 | Amguri\n",
      "Processing Record 457 | Krivodol\n",
      "Processing Record 458 | Sperchógeia\n",
      "Processing Record 459 | Gawler\n",
      "Processing Record 460 | Brodnica\n",
      "Processing Record 461 | Tam Ky\n",
      "Processing Record 462 | Brooks\n",
      "Processing Record 463 | Walvis Bay\n",
      "City not found. Skipping...\n",
      "Processing Record 464 | Aktash\n",
      "Processing Record 465 | Fare\n",
      "Processing Record 466 | Gao\n",
      "Processing Record 467 | Kiboga\n",
      "Processing Record 468 | Dillon\n",
      "Processing Record 469 | Paphos\n",
      "Processing Record 470 | Ipixuna\n",
      "Processing Record 471 | Santa Isabel Rio Negro\n",
      "Processing Record 472 | Pangai\n",
      "Processing Record 473 | Dhārūr\n",
      "Processing Record 474 | Pabradė\n",
      "Processing Record 475 | Puksoozero\n",
      "Processing Record 476 | Constantine\n",
      "Processing Record 477 | Port-Gentil\n",
      "Processing Record 478 | Balvi\n",
      "Processing Record 479 | Sungai Penuh\n",
      "City not found. Skipping...\n",
      "Processing Record 480 | Auki\n",
      "Processing Record 481 | Mongu\n",
      "City not found. Skipping...\n",
      "Processing Record 482 | Ust-Maya\n",
      "Processing Record 483 | Tual\n",
      "Processing Record 484 | Dakar\n",
      "Processing Record 485 | Luján\n",
      "Processing Record 486 | Havelock\n",
      "Processing Record 487 | Misratah\n",
      "Processing Record 488 | Tahe\n",
      "Processing Record 489 | Banda Aceh\n",
      "Processing Record 490 | Civitavecchia\n",
      "Processing Record 491 | Porteirinha\n",
      "Processing Record 492 | Reconquista\n",
      "Processing Record 493 | Aldergrove\n",
      "Processing Record 494 | Qaqortoq\n",
      "Processing Record 495 | Danbury\n",
      "Processing Record 496 | Voh\n",
      "Processing Record 497 | Moree\n",
      "Processing Record 498 | Tsabong\n",
      "Processing Record 499 | Inyonga\n",
      "Processing Record 500 | Shingū\n",
      "Processing Record 501 | Lavumisa\n",
      "City not found. Skipping...\n",
      "Processing Record 502 | Nazilli\n",
      "Processing Record 503 | Roald\n",
      "Processing Record 504 | Samarai\n",
      "Processing Record 505 | Kabanjahe\n",
      "Processing Record 506 | Kysyl-Syr\n",
      "Processing Record 507 | Singaraja\n",
      "Processing Record 508 | Gunjur\n",
      "Processing Record 509 | Esim\n",
      "Processing Record 510 | Vao\n",
      "Processing Record 511 | Pilar\n",
      "Processing Record 512 | San Quintín\n",
      "Processing Record 513 | West Wendover\n",
      "Processing Record 514 | Chemax\n",
      "Processing Record 515 | Forest\n",
      "City not found. Skipping...\n",
      "Processing Record 516 | Lazurne\n",
      "Processing Record 517 | Passa Quatro\n",
      "Processing Record 518 | Flinders\n",
      "Processing Record 519 | Winneba\n",
      "Processing Record 520 | Peno\n",
      "Processing Record 521 | Krasnosel'kup\n",
      "Processing Record 522 | Ouadda\n",
      "Processing Record 523 | Ouésso\n",
      "Processing Record 524 | Terra Santa\n",
      "Processing Record 525 | Sandakan\n",
      "Processing Record 526 | Solca\n",
      "Processing Record 527 | Sørland\n",
      "Processing Record 528 | Tabas\n",
      "Processing Record 529 | Mezen'\n",
      "Processing Record 530 | Ust-Tsilma\n",
      "Processing Record 531 | Fairview\n",
      "Processing Record 532 | Velizh\n",
      "Processing Record 533 | Ada\n",
      "Processing Record 534 | Kurumkan\n",
      "Processing Record 535 | Seoul\n",
      "Processing Record 536 | Amapá\n",
      "Processing Record 537 | Keïta\n",
      "Processing Record 538 | Goderich\n",
      "Processing Record 539 | Makurdi\n",
      "Processing Record 540 | Luganville\n",
      "Processing Record 541 | East Moline\n",
      "Processing Record 542 | Vavuniya\n",
      "Processing Record 543 | Altay\n",
      "Processing Record 544 | Takoradze\n",
      "Processing Record 545 | Mezhdurechenskiy\n",
      "Processing Record 546 | Dahra\n",
      "Processing Record 547 | Tigil'\n",
      "Processing Record 548 | Morro Bay\n",
      "City not found. Skipping...\n",
      "Processing Record 549 | Iberia\n",
      "Processing Record 550 | Fairbanks\n",
      "Processing Record 551 | Connersville\n",
      "Processing Record 552 | Biharamulo\n",
      "Processing Record 553 | Jacareacanga\n",
      "City not found. Skipping...\n",
      "Processing Record 554 | Sola\n",
      "Processing Record 555 | Asău\n",
      "Processing Record 556 | Kumluca\n",
      "Processing Record 557 | Tolaga Bay\n",
      "Processing Record 558 | Pontes e Lacerda\n",
      "Processing Record 559 | Shenzhen\n",
      "Processing Record 560 | Kiryat Gat\n",
      "Processing Record 561 | Laas\n",
      "Processing Record 562 | Topeka\n",
      "Processing Record 563 | Scarborough\n",
      "Processing Record 564 | Bac Lieu\n",
      "Processing Record 565 | Portland\n",
      "Processing Record 566 | Port Blair\n",
      "Processing Record 567 | Guararapes\n",
      "Processing Record 568 | Mahébourg\n",
      "Processing Record 569 | Gamba\n",
      "Processing Record 570 | Melendugno\n",
      "City not found. Skipping...\n",
      "Processing Record 571 | Plettenberg Bay\n",
      "City not found. Skipping...\n",
      "Processing Record 572 | Batagay-Alyta\n",
      "Processing Record 573 | Lapuyan\n",
      "Processing Record 574 | Kununurra\n",
      "Processing Record 575 | Shimoda\n",
      "Processing Record 576 | Manta\n",
      "Processing Record 577 | Le Port\n",
      "Processing Record 578 | Helong\n",
      "Processing Record 579 | Urusha\n",
      "Processing Record 580 | Rudnyy\n",
      "-------------------------------\n",
      "Data Retrieval Complete\n",
      "-------------------------------\n"
     ]
    }
   ],
   "source": [
    "city_name = []\n",
    "country = []\n",
    "date = []\n",
    "latitude = []\n",
    "longitude = []\n",
    "max_temperature = []\n",
    "humidity = []\n",
    "cloudiness = []\n",
    "wind_speed = []\n",
    "\n",
    "# Processing Record Counter Starting a 1\n",
    "processing_record = 1\n",
    "\n",
    "# Print Starting Log Statement\n",
    "print(f\"Beginning Data Retrieval\")\n",
    "print(f\"-------------------------------\")\n",
    "\n",
    "# Loop Through List of Cities & Perform a Request for Data on Each\n",
    "for city in cities:\n",
    "\n",
    "# Exception Handling\n",
    "    try:\n",
    "        response = requests.get(query_url + city).json()\n",
    "        city_name.append(response[\"name\"])\n",
    "        country.append(response[\"sys\"][\"country\"])\n",
    "        date.append(response[\"dt\"])\n",
    "        latitude.append(response[\"coord\"][\"lat\"])\n",
    "        longitude.append(response[\"coord\"][\"lon\"])\n",
    "        max_temperature.append(response[\"main\"][\"temp_max\"])\n",
    "        humidity.append(response[\"main\"][\"humidity\"])\n",
    "        cloudiness.append(response[\"clouds\"][\"all\"])\n",
    "        wind_speed.append(response[\"wind\"][\"speed\"])\n",
    "        city_record = response[\"name\"]\n",
    "        print(f\"Processing Record {processing_record} | {city_record}\")\n",
    "        \n",
    "        # Increase Processing Record Counter by 1 For Each Loop\n",
    "        processing_record += 1\n",
    "        \n",
    "    except:\n",
    "        print(\"City not found. Skipping...\") \n",
    "    continue\n",
    "\n",
    "# Print Ending Log Statement\n",
    "print(f\"-------------------------------\")\n",
    "print(f\"Data Retrieval Complete\")\n",
    "print(f\"-------------------------------\")"
   ]
  },
  {
   "cell_type": "markdown",
   "metadata": {},
   "source": [
    "### Perform API Calls\n",
    "* Perform a weather check on each city using a series of successive API calls.\n",
    "* Include a print log of each city as it'sbeing processed (with the city number and city name).\n"
   ]
  },
  {
   "cell_type": "code",
   "execution_count": null,
   "metadata": {
    "scrolled": true
   },
   "outputs": [],
   "source": []
  },
  {
   "cell_type": "markdown",
   "metadata": {},
   "source": [
    "### Convert Raw Data to DataFrame\n",
    "* Export the city data into a .csv.\n",
    "* Display the DataFrame"
   ]
  },
  {
   "cell_type": "code",
   "execution_count": null,
   "metadata": {},
   "outputs": [],
   "source": []
  },
  {
   "cell_type": "code",
   "execution_count": 55,
   "metadata": {},
   "outputs": [
    {
     "data": {
      "text/html": [
       "<div>\n",
       "<style scoped>\n",
       "    .dataframe tbody tr th:only-of-type {\n",
       "        vertical-align: middle;\n",
       "    }\n",
       "\n",
       "    .dataframe tbody tr th {\n",
       "        vertical-align: top;\n",
       "    }\n",
       "\n",
       "    .dataframe thead th {\n",
       "        text-align: right;\n",
       "    }\n",
       "</style>\n",
       "<table border=\"1\" class=\"dataframe\">\n",
       "  <thead>\n",
       "    <tr style=\"text-align: right;\">\n",
       "      <th></th>\n",
       "      <th>City</th>\n",
       "      <th>Country</th>\n",
       "      <th>Date</th>\n",
       "      <th>Latitude</th>\n",
       "      <th>Longitude</th>\n",
       "      <th>Max Temperature</th>\n",
       "      <th>Humidity</th>\n",
       "      <th>Cloudiness</th>\n",
       "      <th>Wind Speed</th>\n",
       "    </tr>\n",
       "  </thead>\n",
       "  <tbody>\n",
       "    <tr>\n",
       "      <th>0</th>\n",
       "      <td>Porcia</td>\n",
       "      <td>IT</td>\n",
       "      <td>1630791396</td>\n",
       "      <td>45.9600</td>\n",
       "      <td>12.6072</td>\n",
       "      <td>68.88</td>\n",
       "      <td>75</td>\n",
       "      <td>66</td>\n",
       "      <td>1.01</td>\n",
       "    </tr>\n",
       "    <tr>\n",
       "      <th>1</th>\n",
       "      <td>Rikitea</td>\n",
       "      <td>PF</td>\n",
       "      <td>1630791396</td>\n",
       "      <td>-23.1203</td>\n",
       "      <td>-134.9692</td>\n",
       "      <td>74.89</td>\n",
       "      <td>71</td>\n",
       "      <td>100</td>\n",
       "      <td>8.28</td>\n",
       "    </tr>\n",
       "    <tr>\n",
       "      <th>2</th>\n",
       "      <td>Ushuaia</td>\n",
       "      <td>AR</td>\n",
       "      <td>1630791396</td>\n",
       "      <td>-54.8000</td>\n",
       "      <td>-68.3000</td>\n",
       "      <td>47.86</td>\n",
       "      <td>61</td>\n",
       "      <td>75</td>\n",
       "      <td>12.66</td>\n",
       "    </tr>\n",
       "    <tr>\n",
       "      <th>3</th>\n",
       "      <td>Yellowknife</td>\n",
       "      <td>CA</td>\n",
       "      <td>1630791397</td>\n",
       "      <td>62.4560</td>\n",
       "      <td>-114.3525</td>\n",
       "      <td>63.12</td>\n",
       "      <td>67</td>\n",
       "      <td>75</td>\n",
       "      <td>23.02</td>\n",
       "    </tr>\n",
       "    <tr>\n",
       "      <th>4</th>\n",
       "      <td>Lebu</td>\n",
       "      <td>CL</td>\n",
       "      <td>1630791397</td>\n",
       "      <td>-37.6167</td>\n",
       "      <td>-73.6500</td>\n",
       "      <td>53.98</td>\n",
       "      <td>82</td>\n",
       "      <td>100</td>\n",
       "      <td>14.72</td>\n",
       "    </tr>\n",
       "  </tbody>\n",
       "</table>\n",
       "</div>"
      ],
      "text/plain": [
       "          City Country        Date  Latitude  Longitude  Max Temperature  \\\n",
       "0       Porcia      IT  1630791396   45.9600    12.6072            68.88   \n",
       "1      Rikitea      PF  1630791396  -23.1203  -134.9692            74.89   \n",
       "2      Ushuaia      AR  1630791396  -54.8000   -68.3000            47.86   \n",
       "3  Yellowknife      CA  1630791397   62.4560  -114.3525            63.12   \n",
       "4         Lebu      CL  1630791397  -37.6167   -73.6500            53.98   \n",
       "\n",
       "   Humidity  Cloudiness  Wind Speed  \n",
       "0        75          66        1.01  \n",
       "1        71         100        8.28  \n",
       "2        61          75       12.66  \n",
       "3        67          75       23.02  \n",
       "4        82         100       14.72  "
      ]
     },
     "execution_count": 55,
     "metadata": {},
     "output_type": "execute_result"
    }
   ],
   "source": [
    "weather_dict = {\n",
    "    \"City\": city_name,\n",
    "    \"Country\": country,\n",
    "    \"Date\": date,\n",
    "    \"Latitude\": latitude,\n",
    "    \"Longitude\": longitude,\n",
    "    \"Max Temperature\": max_temperature,\n",
    "    \"Humidity\": humidity,\n",
    "    \"Cloudiness\": cloudiness,\n",
    "    \"Wind Speed\": wind_speed\n",
    "}\n",
    "\n",
    "weatha = pd.DataFrame(weather_dict)\n",
    "weatha.head()"
   ]
  },
  {
   "cell_type": "code",
   "execution_count": 78,
   "metadata": {},
   "outputs": [
    {
     "data": {
      "text/html": [
       "<div>\n",
       "<style scoped>\n",
       "    .dataframe tbody tr th:only-of-type {\n",
       "        vertical-align: middle;\n",
       "    }\n",
       "\n",
       "    .dataframe tbody tr th {\n",
       "        vertical-align: top;\n",
       "    }\n",
       "\n",
       "    .dataframe thead th {\n",
       "        text-align: right;\n",
       "    }\n",
       "</style>\n",
       "<table border=\"1\" class=\"dataframe\">\n",
       "  <thead>\n",
       "    <tr style=\"text-align: right;\">\n",
       "      <th></th>\n",
       "      <th>City</th>\n",
       "      <th>Country</th>\n",
       "      <th>Date</th>\n",
       "      <th>Latitude</th>\n",
       "      <th>Longitude</th>\n",
       "      <th>Max Temperature</th>\n",
       "      <th>Humidity</th>\n",
       "      <th>Cloudiness</th>\n",
       "      <th>Wind Speed</th>\n",
       "    </tr>\n",
       "  </thead>\n",
       "  <tbody>\n",
       "    <tr>\n",
       "      <th>114</th>\n",
       "      <td>Yārāda</td>\n",
       "      <td>IN</td>\n",
       "      <td>1630791430</td>\n",
       "      <td>17.6500</td>\n",
       "      <td>83.2667</td>\n",
       "      <td>79.12</td>\n",
       "      <td>100</td>\n",
       "      <td>75</td>\n",
       "      <td>5.75</td>\n",
       "    </tr>\n",
       "    <tr>\n",
       "      <th>151</th>\n",
       "      <td>Grindavik</td>\n",
       "      <td>IS</td>\n",
       "      <td>1630791441</td>\n",
       "      <td>63.8424</td>\n",
       "      <td>-22.4338</td>\n",
       "      <td>55.35</td>\n",
       "      <td>100</td>\n",
       "      <td>90</td>\n",
       "      <td>36.82</td>\n",
       "    </tr>\n",
       "    <tr>\n",
       "      <th>49</th>\n",
       "      <td>Hambantota</td>\n",
       "      <td>LK</td>\n",
       "      <td>1630791411</td>\n",
       "      <td>6.1241</td>\n",
       "      <td>81.1185</td>\n",
       "      <td>77.34</td>\n",
       "      <td>100</td>\n",
       "      <td>40</td>\n",
       "      <td>4.61</td>\n",
       "    </tr>\n",
       "    <tr>\n",
       "      <th>524</th>\n",
       "      <td>Sandakan</td>\n",
       "      <td>MY</td>\n",
       "      <td>1630791552</td>\n",
       "      <td>5.8402</td>\n",
       "      <td>118.1179</td>\n",
       "      <td>74.88</td>\n",
       "      <td>100</td>\n",
       "      <td>20</td>\n",
       "      <td>2.30</td>\n",
       "    </tr>\n",
       "    <tr>\n",
       "      <th>445</th>\n",
       "      <td>Petropavlovsk-Kamchatskiy</td>\n",
       "      <td>RU</td>\n",
       "      <td>1630791528</td>\n",
       "      <td>53.0452</td>\n",
       "      <td>158.6483</td>\n",
       "      <td>50.59</td>\n",
       "      <td>100</td>\n",
       "      <td>0</td>\n",
       "      <td>6.71</td>\n",
       "    </tr>\n",
       "    <tr>\n",
       "      <th>...</th>\n",
       "      <td>...</td>\n",
       "      <td>...</td>\n",
       "      <td>...</td>\n",
       "      <td>...</td>\n",
       "      <td>...</td>\n",
       "      <td>...</td>\n",
       "      <td>...</td>\n",
       "      <td>...</td>\n",
       "      <td>...</td>\n",
       "    </tr>\n",
       "    <tr>\n",
       "      <th>97</th>\n",
       "      <td>Aranos</td>\n",
       "      <td>NA</td>\n",
       "      <td>1630791425</td>\n",
       "      <td>-24.1333</td>\n",
       "      <td>19.1167</td>\n",
       "      <td>62.46</td>\n",
       "      <td>15</td>\n",
       "      <td>31</td>\n",
       "      <td>9.57</td>\n",
       "    </tr>\n",
       "    <tr>\n",
       "      <th>188</th>\n",
       "      <td>Uyuni</td>\n",
       "      <td>BO</td>\n",
       "      <td>1630791452</td>\n",
       "      <td>-20.4597</td>\n",
       "      <td>-66.8250</td>\n",
       "      <td>56.08</td>\n",
       "      <td>14</td>\n",
       "      <td>2</td>\n",
       "      <td>6.24</td>\n",
       "    </tr>\n",
       "    <tr>\n",
       "      <th>532</th>\n",
       "      <td>Ada</td>\n",
       "      <td>US</td>\n",
       "      <td>1630791555</td>\n",
       "      <td>43.4166</td>\n",
       "      <td>-116.1262</td>\n",
       "      <td>87.73</td>\n",
       "      <td>11</td>\n",
       "      <td>1</td>\n",
       "      <td>4.61</td>\n",
       "    </tr>\n",
       "    <tr>\n",
       "      <th>512</th>\n",
       "      <td>West Wendover</td>\n",
       "      <td>US</td>\n",
       "      <td>1630791249</td>\n",
       "      <td>40.7391</td>\n",
       "      <td>-114.0733</td>\n",
       "      <td>83.41</td>\n",
       "      <td>9</td>\n",
       "      <td>1</td>\n",
       "      <td>9.22</td>\n",
       "    </tr>\n",
       "    <tr>\n",
       "      <th>293</th>\n",
       "      <td>Winnemucca</td>\n",
       "      <td>US</td>\n",
       "      <td>1630791483</td>\n",
       "      <td>40.9730</td>\n",
       "      <td>-117.7357</td>\n",
       "      <td>87.85</td>\n",
       "      <td>7</td>\n",
       "      <td>1</td>\n",
       "      <td>5.75</td>\n",
       "    </tr>\n",
       "  </tbody>\n",
       "</table>\n",
       "<p>580 rows × 9 columns</p>\n",
       "</div>"
      ],
      "text/plain": [
       "                          City Country        Date  Latitude  Longitude  \\\n",
       "114                     Yārāda      IN  1630791430   17.6500    83.2667   \n",
       "151                  Grindavik      IS  1630791441   63.8424   -22.4338   \n",
       "49                  Hambantota      LK  1630791411    6.1241    81.1185   \n",
       "524                   Sandakan      MY  1630791552    5.8402   118.1179   \n",
       "445  Petropavlovsk-Kamchatskiy      RU  1630791528   53.0452   158.6483   \n",
       "..                         ...     ...         ...       ...        ...   \n",
       "97                      Aranos      NA  1630791425  -24.1333    19.1167   \n",
       "188                      Uyuni      BO  1630791452  -20.4597   -66.8250   \n",
       "532                        Ada      US  1630791555   43.4166  -116.1262   \n",
       "512              West Wendover      US  1630791249   40.7391  -114.0733   \n",
       "293                 Winnemucca      US  1630791483   40.9730  -117.7357   \n",
       "\n",
       "     Max Temperature  Humidity  Cloudiness  Wind Speed  \n",
       "114            79.12       100          75        5.75  \n",
       "151            55.35       100          90       36.82  \n",
       "49             77.34       100          40        4.61  \n",
       "524            74.88       100          20        2.30  \n",
       "445            50.59       100           0        6.71  \n",
       "..               ...       ...         ...         ...  \n",
       "97             62.46        15          31        9.57  \n",
       "188            56.08        14           2        6.24  \n",
       "532            87.73        11           1        4.61  \n",
       "512            83.41         9           1        9.22  \n",
       "293            87.85         7           1        5.75  \n",
       "\n",
       "[580 rows x 9 columns]"
      ]
     },
     "execution_count": 78,
     "metadata": {},
     "output_type": "execute_result"
    }
   ],
   "source": [
    "weatha1 = weatha.loc[weatha['Humidity']<101]\n",
    "weatha1 = weatha1.sort_values('Humidity', ascending=False)\n",
    "weatha1.to_csv(r'C:\\Users\\Dan\\Desktop\\Homework\\weatherpy-d-pranjic.csv')\n",
    "weatha1"
   ]
  },
  {
   "cell_type": "markdown",
   "metadata": {},
   "source": [
    "## Inspect the data and remove the cities where the humidity > 100%.\n",
    "----\n",
    "Skip this step if there are no cities that have humidity > 100%. "
   ]
  },
  {
   "cell_type": "code",
   "execution_count": null,
   "metadata": {},
   "outputs": [],
   "source": []
  },
  {
   "cell_type": "code",
   "execution_count": 57,
   "metadata": {},
   "outputs": [],
   "source": [
    "#  Get the indices of cities that have humidity over 100%.\n"
   ]
  },
  {
   "cell_type": "code",
   "execution_count": 58,
   "metadata": {},
   "outputs": [],
   "source": [
    "# Make a new DataFrame equal to the city data to drop all humidity outliers by index.\n",
    "# Passing \"inplace=False\" will make a copy of the city_data DataFrame, which we call \"clean_city_data\".\n"
   ]
  },
  {
   "cell_type": "code",
   "execution_count": null,
   "metadata": {},
   "outputs": [],
   "source": [
    "\n"
   ]
  },
  {
   "cell_type": "markdown",
   "metadata": {},
   "source": [
    "## Plotting the Data\n",
    "* Use proper labeling of the plots using plot titles (including date of analysis) and axes labels.\n",
    "* Save the plotted figures as .pngs."
   ]
  },
  {
   "cell_type": "markdown",
   "metadata": {},
   "source": [
    "## Latitude vs. Temperature Plot"
   ]
  },
  {
   "cell_type": "code",
   "execution_count": null,
   "metadata": {
    "scrolled": true
   },
   "outputs": [],
   "source": []
  },
  {
   "cell_type": "code",
   "execution_count": 59,
   "metadata": {},
   "outputs": [
    {
     "data": {
      "text/plain": [
       "Text(0.5, 1.0, 'Latitude vs. Temperature')"
      ]
     },
     "execution_count": 59,
     "metadata": {},
     "output_type": "execute_result"
    },
    {
     "data": {
      "image/png": "[encoded data removed]",
      "text/plain": [
       "<Figure size 432x288 with 1 Axes>"
      ]
     },
     "metadata": {
      "needs_background": "light"
     },
     "output_type": "display_data"
    }
   ],
   "source": [
    "weatha1.plot.scatter(\"Latitude\", \"Max Temperature\", edgecolors = 'b')\n",
    "plt.title(\"Latitude vs. Temperature\")"
   ]
  },
  {
   "cell_type": "code",
   "execution_count": 80,
   "metadata": {},
   "outputs": [
    {
     "name": "stdout",
     "output_type": "stream",
     "text": [
      "Here we are trying to see if there is any correllation between lattitude and Max recorded temperature, and as expected temperatures drop as we get closer to the northern and southern poles.\n"
     ]
    }
   ],
   "source": [
    "print(f'Here we are trying to see if there is any correllation between lattitude and Max recorded temperature, and as expected temperatures drop as we get closer to the northern and southern poles.') \n"
   ]
  },
  {
   "cell_type": "code",
   "execution_count": null,
   "metadata": {},
   "outputs": [],
   "source": []
  },
  {
   "cell_type": "markdown",
   "metadata": {},
   "source": [
    "## Latitude vs. Humidity Plot"
   ]
  },
  {
   "cell_type": "code",
   "execution_count": null,
   "metadata": {},
   "outputs": [],
   "source": []
  },
  {
   "cell_type": "code",
   "execution_count": 60,
   "metadata": {},
   "outputs": [
    {
     "data": {
      "text/plain": [
       "Text(0.5, 1.0, 'Latitude vs. Humidity')"
      ]
     },
     "execution_count": 60,
     "metadata": {},
     "output_type": "execute_result"
    },
    {
     "data": {
      "image/png": "[encoded data removed]",
      "text/plain": [
       "<Figure size 432x288 with 1 Axes>"
      ]
     },
     "metadata": {
      "needs_background": "light"
     },
     "output_type": "display_data"
    }
   ],
   "source": [
    "weatha1.plot.scatter(\"Latitude\", \"Humidity\", edgecolors = 'b')\n",
    "plt.title(\"Latitude vs. Humidity\")"
   ]
  },
  {
   "cell_type": "code",
   "execution_count": 81,
   "metadata": {},
   "outputs": [
    {
     "name": "stdout",
     "output_type": "stream",
     "text": [
      "There seems to be a slight mirroring centered around the equator or line of 0 Lattitude, however further analysis is required to establish a correlation\n"
     ]
    }
   ],
   "source": [
    "print(f'There seems to be a slight mirroring centered around the equator or line of 0 Lattitude, however further analysis is required to establish a correlation') "
   ]
  },
  {
   "cell_type": "markdown",
   "metadata": {},
   "source": [
    "## Latitude vs. Cloudiness Plot"
   ]
  },
  {
   "cell_type": "code",
   "execution_count": null,
   "metadata": {},
   "outputs": [],
   "source": []
  },
  {
   "cell_type": "code",
   "execution_count": 61,
   "metadata": {},
   "outputs": [
    {
     "data": {
      "text/plain": [
       "Text(0.5, 1.0, 'Latitude vs. Cloudiness')"
      ]
     },
     "execution_count": 61,
     "metadata": {},
     "output_type": "execute_result"
    },
    {
     "data": {
      "image/png": "[encoded data removed]",
      "text/plain": [
       "<Figure size 432x288 with 1 Axes>"
      ]
     },
     "metadata": {
      "needs_background": "light"
     },
     "output_type": "display_data"
    }
   ],
   "source": [
    "weatha1.plot.scatter(\"Latitude\", \"Cloudiness\", edgecolors = 'b')\n",
    "plt.title(\"Latitude vs. Cloudiness\")"
   ]
  },
  {
   "cell_type": "code",
   "execution_count": 82,
   "metadata": {},
   "outputs": [
    {
     "name": "stdout",
     "output_type": "stream",
     "text": [
      "There seems to bee little to now relation between cloudiness and latitude\n"
     ]
    }
   ],
   "source": [
    "print(f'There seems to bee little to now relation between cloudiness and latitude') "
   ]
  },
  {
   "cell_type": "markdown",
   "metadata": {},
   "source": [
    "## Latitude vs. Wind Speed Plot"
   ]
  },
  {
   "cell_type": "code",
   "execution_count": null,
   "metadata": {},
   "outputs": [],
   "source": []
  },
  {
   "cell_type": "code",
   "execution_count": 62,
   "metadata": {},
   "outputs": [
    {
     "data": {
      "text/plain": [
       "Text(0.5, 1.0, 'Latitude vs. Wind Speed')"
      ]
     },
     "execution_count": 62,
     "metadata": {},
     "output_type": "execute_result"
    },
    {
     "data": {
      "image/png": "[encoded data removed]",
      "text/plain": [
       "<Figure size 432x288 with 1 Axes>"
      ]
     },
     "metadata": {
      "needs_background": "light"
     },
     "output_type": "display_data"
    }
   ],
   "source": [
    "weatha1.plot.scatter(\"Latitude\", \"Wind Speed\", edgecolors = 'b')\n",
    "plt.title(\"Latitude vs. Wind Speed\")"
   ]
  },
  {
   "cell_type": "code",
   "execution_count": 83,
   "metadata": {},
   "outputs": [
    {
     "name": "stdout",
     "output_type": "stream",
     "text": [
      "Wind speed and latitude seem to not have a lot of correlation, lower wind speeds are more common and it would seem that there are specific places that have more winds than average\n"
     ]
    }
   ],
   "source": [
    "print(f'Wind speed and latitude seem to not have a lot of correlation, lower wind speeds are more common and it would seem that there are specific places that have more winds than average') "
   ]
  },
  {
   "cell_type": "markdown",
   "metadata": {},
   "source": [
    "## Linear Regression"
   ]
  },
  {
   "cell_type": "code",
   "execution_count": null,
   "metadata": {},
   "outputs": [],
   "source": []
  },
  {
   "cell_type": "markdown",
   "metadata": {},
   "source": [
    "####  Northern Hemisphere - Max Temp vs. Latitude Linear Regression"
   ]
  },
  {
   "cell_type": "code",
   "execution_count": null,
   "metadata": {},
   "outputs": [],
   "source": []
  },
  {
   "cell_type": "code",
   "execution_count": 72,
   "metadata": {},
   "outputs": [
    {
     "data": {
      "text/plain": [
       "Text(0.5, 1.0, 'Northern Hemisphere - Latitude vs. Temperature')"
      ]
     },
     "execution_count": 72,
     "metadata": {},
     "output_type": "execute_result"
    },
    {
     "data": {
      "image/png": "[encoded data removed]",
      "text/plain": [
       "<Figure size 432x288 with 1 Axes>"
      ]
     },
     "metadata": {
      "needs_background": "light"
     },
     "output_type": "display_data"
    }
   ],
   "source": [
    "northernheat = weatha1.loc[weatha1['Latitude']>=0]\n",
    "northernheat.plot.scatter(\"Latitude\", \"Max Temperature\", edgecolors = 'b')\n",
    "correlation = st.pearsonr(northernheat[\"Latitude\"], northernheat[\"Max Temperature\"])\n",
    "(slope, intercept, rvalue, pvalue, stderr) = linregress(northernheat[\"Latitude\"], northernheat[\"Max Temperature\"])\n",
    "regress_values = northernheat[\"Latitude\"] * slope + intercept\n",
    "plt.scatter(northernheat[\"Latitude\"], northernheat[\"Max Temperature\"])\n",
    "plt.plot(northernheat[\"Latitude\"],regress_values,\"r-\")\n",
    "\n",
    "\n",
    "plt.title(\"Northern Hemisphere - Latitude vs. Temperature\")"
   ]
  },
  {
   "cell_type": "code",
   "execution_count": null,
   "metadata": {},
   "outputs": [],
   "source": []
  },
  {
   "cell_type": "markdown",
   "metadata": {},
   "source": [
    "####  Southern Hemisphere - Max Temp vs. Latitude Linear Regression"
   ]
  },
  {
   "cell_type": "code",
   "execution_count": null,
   "metadata": {},
   "outputs": [],
   "source": []
  },
  {
   "cell_type": "code",
   "execution_count": 64,
   "metadata": {},
   "outputs": [
    {
     "data": {
      "text/plain": [
       "Text(0.5, 1.0, 'Southern - Latitude vs. Temperature')"
      ]
     },
     "execution_count": 64,
     "metadata": {},
     "output_type": "execute_result"
    },
    {
     "data": {
      "image/png": "[encoded data removed]",
      "text/plain": [
       "<Figure size 432x288 with 1 Axes>"
      ]
     },
     "metadata": {
      "needs_background": "light"
     },
     "output_type": "display_data"
    }
   ],
   "source": [
    "southernheat = weatha1.loc[weatha1['Latitude']<0]\n",
    "southernheat.plot.scatter(\"Latitude\", \"Max Temperature\", edgecolors = 'b')\n",
    "correlation = st.pearsonr(southernheat[\"Latitude\"], southernheat[\"Max Temperature\"])\n",
    "(slope, intercept, rvalue, pvalue, stderr) = linregress(southernheat[\"Latitude\"], southernheat[\"Max Temperature\"])\n",
    "regress_values = southernheat[\"Latitude\"] * slope + intercept\n",
    "plt.scatter(southernheat[\"Latitude\"], southernheat[\"Max Temperature\"])\n",
    "plt.plot(southernheat[\"Latitude\"],regress_values,\"r-\")\n",
    "\n",
    "plt.title(\"Southern - Latitude vs. Temperature\")"
   ]
  },
  {
   "cell_type": "code",
   "execution_count": 84,
   "metadata": {},
   "outputs": [
    {
     "name": "stdout",
     "output_type": "stream",
     "text": [
      "Temperatures are dropping as we get closer to the poles. It is interesting as we can see the tilt of the earths axis as one would think that the hottest part of the planet would be the direct middle.\n"
     ]
    }
   ],
   "source": [
    "print(f'Temperatures are dropping as we get closer to the poles. It is interesting as we can see the tilt of the earths axis as one would think that the hottest part of the planet would be the direct middle.') "
   ]
  },
  {
   "cell_type": "markdown",
   "metadata": {},
   "source": [
    "####  Northern Hemisphere - Humidity (%) vs. Latitude Linear Regression"
   ]
  },
  {
   "cell_type": "code",
   "execution_count": null,
   "metadata": {},
   "outputs": [],
   "source": []
  },
  {
   "cell_type": "code",
   "execution_count": 73,
   "metadata": {},
   "outputs": [
    {
     "data": {
      "text/plain": [
       "Text(0.5, 1.0, 'Northern Hemisphere - Latitude vs. Humidity')"
      ]
     },
     "execution_count": 73,
     "metadata": {},
     "output_type": "execute_result"
    },
    {
     "data": {
      "image/png": "[encoded data removed]",
      "text/plain": [
       "<Figure size 432x288 with 1 Axes>"
      ]
     },
     "metadata": {
      "needs_background": "light"
     },
     "output_type": "display_data"
    }
   ],
   "source": [
    "northernhum = weatha1.loc[weatha1['Latitude']>=0]\n",
    "northernhum.plot.scatter(\"Latitude\", \"Humidity\", edgecolors = 'b')\n",
    "correlation = st.pearsonr(northernhum[\"Latitude\"], northernhum[\"Humidity\"])\n",
    "(slope, intercept, rvalue, pvalue, stderr) = linregress(northernhum[\"Latitude\"], northernhum[\"Humidity\"])\n",
    "regress_values = northernhum[\"Latitude\"] * slope + intercept\n",
    "plt.scatter(northernhum[\"Latitude\"], northernhum[\"Humidity\"])\n",
    "plt.plot(northernhum[\"Latitude\"],regress_values,\"r-\")\n",
    "\n",
    "plt.title(\"Northern Hemisphere - Latitude vs. Humidity\")"
   ]
  },
  {
   "cell_type": "markdown",
   "metadata": {},
   "source": [
    "####  Southern Hemisphere - Humidity (%) vs. Latitude Linear Regression"
   ]
  },
  {
   "cell_type": "code",
   "execution_count": null,
   "metadata": {},
   "outputs": [],
   "source": []
  },
  {
   "cell_type": "code",
   "execution_count": 66,
   "metadata": {},
   "outputs": [
    {
     "data": {
      "text/plain": [
       "Text(0.5, 1.0, 'Southern Hemisphere - Latitude vs. Humidity')"
      ]
     },
     "execution_count": 66,
     "metadata": {},
     "output_type": "execute_result"
    },
    {
     "data": {
      "image/png": "[encoded data removed]",
      "text/plain": [
       "<Figure size 432x288 with 1 Axes>"
      ]
     },
     "metadata": {
      "needs_background": "light"
     },
     "output_type": "display_data"
    }
   ],
   "source": [
    "southernhum = weatha1.loc[weatha1['Latitude']<0]\n",
    "southernhum.plot.scatter(\"Latitude\", \"Humidity\", edgecolors = 'b')\n",
    "correlation = st.pearsonr(southernhum[\"Latitude\"], southernhum[\"Humidity\"])\n",
    "(slope, intercept, rvalue, pvalue, stderr) = linregress(southernhum[\"Latitude\"], southernhum[\"Humidity\"])\n",
    "regress_values = southernhum[\"Latitude\"] * slope + intercept\n",
    "plt.scatter(southernhum[\"Latitude\"], southernhum[\"Humidity\"])\n",
    "plt.plot(southernhum[\"Latitude\"],regress_values,\"r-\")\n",
    "\n",
    "plt.title(\"Southern Hemisphere - Latitude vs. Humidity\")"
   ]
  },
  {
   "cell_type": "code",
   "execution_count": 85,
   "metadata": {},
   "outputs": [
    {
     "name": "stdout",
     "output_type": "stream",
     "text": [
      "Linear regression lines shows little to now correlation between Humidity and Lattitude on either graph.\n"
     ]
    }
   ],
   "source": [
    "print(f'Linear regression lines shows little to now correlation between Humidity and Lattitude on either graph.') "
   ]
  },
  {
   "cell_type": "markdown",
   "metadata": {},
   "source": [
    "####  Northern Hemisphere - Cloudiness (%) vs. Latitude Linear Regression"
   ]
  },
  {
   "cell_type": "code",
   "execution_count": null,
   "metadata": {},
   "outputs": [],
   "source": []
  },
  {
   "cell_type": "code",
   "execution_count": 74,
   "metadata": {},
   "outputs": [
    {
     "data": {
      "text/plain": [
       "Text(0.5, 1.0, 'Northern Hemisphere - Latitude vs. Cloudiness')"
      ]
     },
     "execution_count": 74,
     "metadata": {},
     "output_type": "execute_result"
    },
    {
     "data": {
      "image/png": "[encoded data removed]",
      "text/plain": [
       "<Figure size 432x288 with 1 Axes>"
      ]
     },
     "metadata": {
      "needs_background": "light"
     },
     "output_type": "display_data"
    }
   ],
   "source": [
    "northerncloud = weatha1.loc[weatha1['Latitude']>=0]\n",
    "northerncloud.plot.scatter(\"Latitude\", \"Cloudiness\", edgecolors = 'b')\n",
    "correlation = st.pearsonr(northerncloud[\"Latitude\"], northerncloud[\"Cloudiness\"])\n",
    "(slope, intercept, rvalue, pvalue, stderr) = linregress(northerncloud[\"Latitude\"], northerncloud[\"Cloudiness\"])\n",
    "regress_values = northerncloud[\"Latitude\"] * slope + intercept\n",
    "plt.scatter(northerncloud[\"Latitude\"], northerncloud[\"Cloudiness\"])\n",
    "plt.plot(northerncloud[\"Latitude\"],regress_values,\"r-\")\n",
    "\n",
    "plt.title(\"Northern Hemisphere - Latitude vs. Cloudiness\")"
   ]
  },
  {
   "cell_type": "markdown",
   "metadata": {},
   "source": [
    "####  Southern Hemisphere - Cloudiness (%) vs. Latitude Linear Regression"
   ]
  },
  {
   "cell_type": "code",
   "execution_count": null,
   "metadata": {},
   "outputs": [],
   "source": []
  },
  {
   "cell_type": "code",
   "execution_count": 68,
   "metadata": {},
   "outputs": [
    {
     "data": {
      "text/plain": [
       "Text(0.5, 1.0, 'Southern Hemisphere - Latitude vs. Cloudiness')"
      ]
     },
     "execution_count": 68,
     "metadata": {},
     "output_type": "execute_result"
    },
    {
     "data": {
      "image/png": "[encoded data removed]",
      "text/plain": [
       "<Figure size 432x288 with 1 Axes>"
      ]
     },
     "metadata": {
      "needs_background": "light"
     },
     "output_type": "display_data"
    }
   ],
   "source": [
    "southerncloud = weatha1.loc[weatha1['Latitude']>0]\n",
    "southerncloud.plot.scatter(\"Latitude\", \"Cloudiness\", edgecolors = 'b')\n",
    "correlation = st.pearsonr(southerncloud[\"Latitude\"], southerncloud[\"Cloudiness\"])\n",
    "(slope, intercept, rvalue, pvalue, stderr) = linregress(southerncloud[\"Latitude\"], southerncloud[\"Cloudiness\"])\n",
    "regress_values = southerncloud[\"Latitude\"] * slope + intercept\n",
    "plt.scatter(southerncloud[\"Latitude\"], southerncloud[\"Cloudiness\"])\n",
    "plt.plot(southerncloud[\"Latitude\"],regress_values,\"r-\")\n",
    "\n",
    "plt.title(\"Southern Hemisphere - Latitude vs. Cloudiness\")"
   ]
  },
  {
   "cell_type": "code",
   "execution_count": null,
   "metadata": {},
   "outputs": [],
   "source": []
  },
  {
   "cell_type": "markdown",
   "metadata": {},
   "source": [
    "####  Northern Hemisphere - Wind Speed (mph) vs. Latitude Linear Regression"
   ]
  },
  {
   "cell_type": "code",
   "execution_count": null,
   "metadata": {},
   "outputs": [],
   "source": []
  },
  {
   "cell_type": "code",
   "execution_count": 75,
   "metadata": {},
   "outputs": [
    {
     "data": {
      "text/plain": [
       "Text(0.5, 1.0, 'Northern Hemisphere - Latitude vs. Wind Speed')"
      ]
     },
     "execution_count": 75,
     "metadata": {},
     "output_type": "execute_result"
    },
    {
     "data": {
      "image/png": "[encoded data removed]",
      "text/plain": [
       "<Figure size 432x288 with 1 Axes>"
      ]
     },
     "metadata": {
      "needs_background": "light"
     },
     "output_type": "display_data"
    }
   ],
   "source": [
    "northernwind = weatha1.loc[weatha1['Latitude']>=0]\n",
    "northernwind.plot.scatter(\"Latitude\", \"Wind Speed\", edgecolors = 'b')\n",
    "correlation = st.pearsonr(northernwind[\"Latitude\"], northernwind[\"Wind Speed\"])\n",
    "(slope, intercept, rvalue, pvalue, stderr) = linregress(northernwind[\"Latitude\"], northernwind[\"Wind Speed\"])\n",
    "regress_values = northernwind[\"Latitude\"] * slope + intercept\n",
    "plt.scatter(northernwind[\"Latitude\"], northernwind[\"Wind Speed\"])\n",
    "plt.plot(northernwind[\"Latitude\"],regress_values,\"r-\")\n",
    "\n",
    "plt.title(\"Northern Hemisphere - Latitude vs. Wind Speed\")"
   ]
  },
  {
   "cell_type": "markdown",
   "metadata": {},
   "source": [
    "####  Southern Hemisphere - Wind Speed (mph) vs. Latitude Linear Regression"
   ]
  },
  {
   "cell_type": "code",
   "execution_count": null,
   "metadata": {},
   "outputs": [],
   "source": []
  },
  {
   "cell_type": "code",
   "execution_count": 70,
   "metadata": {},
   "outputs": [
    {
     "data": {
      "text/plain": [
       "Text(0.5, 1.0, 'Southern Hemisphere - Latitude vs. Wind Speed')"
      ]
     },
     "execution_count": 70,
     "metadata": {},
     "output_type": "execute_result"
    },
    {
     "data": {
      "image/png": "[encoded data removed]",
      "text/plain": [
       "<Figure size 432x288 with 1 Axes>"
      ]
     },
     "metadata": {
      "needs_background": "light"
     },
     "output_type": "display_data"
    }
   ],
   "source": [
    "southernnwind = weatha1.loc[weatha1['Latitude']<0]\n",
    "southernnwind.plot.scatter(\"Latitude\", \"Wind Speed\", edgecolors = 'b')\n",
    "correlation = st.pearsonr(southernnwind[\"Latitude\"], southernnwind[\"Wind Speed\"])\n",
    "(slope, intercept, rvalue, pvalue, stderr) = linregress(southernnwind[\"Latitude\"], southernnwind[\"Wind Speed\"])\n",
    "regress_values = southernnwind[\"Latitude\"] * slope + intercept\n",
    "plt.scatter(southernnwind[\"Latitude\"], southernnwind[\"Wind Speed\"])\n",
    "plt.plot(southernnwind[\"Latitude\"],regress_values,\"r-\")\n",
    "\n",
    "plt.title(\"Southern Hemisphere - Latitude vs. Wind Speed\")"
   ]
  }
 ],
 "metadata": {
  "anaconda-cloud": {},
  "kernel_info": {
   "name": "python3"
  },
  "kernelspec": {
   "display_name": "Python 3",
   "language": "python",
   "name": "python3"
  },
  "language_info": {
   "codemirror_mode": {
    "name": "ipython",
    "version": 3
   },
   "file_extension": ".py",
   "mimetype": "text/x-python",
   "name": "python",
   "nbconvert_exporter": "python",
   "pygments_lexer": "ipython3",
   "version": "3.8.8"
  },
  "latex_envs": {
   "LaTeX_envs_menu_present": true,
   "autoclose": false,
   "autocomplete": true,
   "bibliofile": "biblio.bib",
   "cite_by": "apalike",
   "current_citInitial": 1,
   "eqLabelWithNumbers": true,
   "eqNumInitial": 1,
   "hotkeys": {
    "equation": "Ctrl-E",
    "itemize": "Ctrl-I"
   },
   "labels_anchors": false,
   "latex_user_defs": false,
   "report_style_numbering": false,
   "user_envs_cfg": false
  },
  "nteract": {
   "version": "0.12.3"
  }
 },
 "nbformat": 4,
 "nbformat_minor": 2
}
